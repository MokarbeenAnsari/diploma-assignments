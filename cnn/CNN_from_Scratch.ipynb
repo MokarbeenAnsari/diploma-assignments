{
  "cells": [
    {
      "cell_type": "markdown",
      "metadata": {
        "id": "Qo1BT_kgokN9"
      },
      "source": [
        "# <font color='red'>Implement CNN from scratch</font>"
      ]
    },
    {
      "cell_type": "markdown",
      "metadata": {
        "id": "FAUTcX1nokOB"
      },
      "source": [
        "### In the following assignment you have to compute the convolutional operations from scratch using Numpy\n",
        "You will then verify the correctness of the your implementation using a \"grader\" function/cell (provided by us) which will match your implmentation.\n",
        "\n",
        "The grader fucntion would help you validate the correctness of your code. \n",
        "\n",
        "Please submit the final Colab notebook in the classroom ONLY after you have verified your code using the grader function/cell.\n",
        "\n",
        "\n",
        "**NOTE: DO NOT change the \"grader\" functions or code snippets written by us.Please add your code in the suggested locations.**\n",
        "\n",
        "Ethics Code:\n",
        "1. You are welcome to read up online resources to implement the code. \n",
        "2. You can also discuss with your classmates on the implmentation over Slack.\n",
        "3. But, the code you write and submit should be yours ONLY. Your code will be compared against other stduents' code and online code snippets to check for plagiarism. If your code is found to be plagiarised, you will be awarded zero-marks for all assignments, which have a 10% weightage in the final marks for this course."
      ]
    },
    {
      "cell_type": "markdown",
      "metadata": {
        "id": "SYVQR1StokOC"
      },
      "source": [
        "### Task 1. Calcuate the shape of the output image\n",
        "We use the below formula to calculate the shape of output image after performing the required operations\n",
        "<img src='https://i.imgur.com/BlepuHW.jpg'>"
      ]
    },
    {
      "cell_type": "code",
      "execution_count": 9,
      "metadata": {
        "id": "o93q0KJWokOC"
      },
      "outputs": [],
      "source": [
        "#https://stats.stackexchange.com/questions/351115/convolution-with-a-non-square-kernel\n",
        "#for simplicity we are assuming stride=1\n",
        "import numpy as np\n",
        "def calculate_output_shape(img_size, kernel_size,padding):\n",
        "    img_length=img_size[0]\n",
        "    img_width=img_size[1]\n",
        "    kernel_length=kernel_size[0]\n",
        "    kernel_width=kernel_size[1]\n",
        "    #return -1,-1 if the shape of kernel is greater than img_size\n",
        "    if kernel_length > img_length or kernel_width > img_width:\n",
        "      return -1, -1\n",
        "    \n",
        "    #use the above formula to calculate output_length and output_width\n",
        "    stride = 1 # Assumption\n",
        "    output_length = ((img_length + 2 * padding - kernel_length)//stride) + 1\n",
        "    output_width = ((img_width + 2 * padding - kernel_width)//stride) + 1  \n",
        "    \n",
        "    return output_length,output_width"
      ]
    },
    {
      "cell_type": "code",
      "execution_count": 10,
      "metadata": {
        "colab": {
          "base_uri": "https://localhost:8080/"
        },
        "id": "QNcM6GA6okOE",
        "outputId": "e574b92a-770d-41c6-d4b8-03347fc61846"
      },
      "outputs": [
        {
          "output_type": "execute_result",
          "data": {
            "text/plain": [
              "True"
            ]
          },
          "metadata": {},
          "execution_count": 10
        }
      ],
      "source": [
        "def grader_calculate_size(l1,w1,l2,w2,l3,w3):\n",
        "    case_1=(l1==220 and w1==220)\n",
        "    case_2=(l2==-1 and w2==-1)\n",
        "    case_3=(l3==128 and w3==128)\n",
        "    assert(case_1 and case_2 and case_3)\n",
        "    return True\n",
        "l1,w1=calculate_output_shape((224,224), (5,5),0)\n",
        "l2,w2=calculate_output_shape((10,10), (12,12),1)\n",
        "l3,w3=calculate_output_shape((128,128), (3,3),1)\n",
        "grader_calculate_size(l1,w1,l2,w2,l3,w3)"
      ]
    },
    {
      "cell_type": "markdown",
      "metadata": {
        "id": "4xxaecN_okOE"
      },
      "source": [
        "### Task 2 . Get the padded image\n",
        "In this task we have to add layer of zeros as padding layers in the original image"
      ]
    },
    {
      "cell_type": "code",
      "execution_count": 11,
      "metadata": {
        "id": "I6jgq66jokOF"
      },
      "outputs": [],
      "source": [
        "def get_padded_image(input_img, padding_width):\n",
        "    \n",
        "    #if the padding length is less than or equal to 0 then return the original image\n",
        "    if(padding_width<=0):\n",
        "        return img\n",
        "    \n",
        "    #you can initialize a matrix of all zeros and then copy the image data\n",
        "    shape = input_img.shape                               # Shape of original image\n",
        "    new_shape = tuple(i + 2*padding_width for i in shape) # Shape of new image with padding\n",
        "    img_with_padding = np.zeros(new_shape)                # Initializing new matrix with zeros\n",
        "\n",
        "    # Copying original image data in new matrix\n",
        "    for i in range(shape[0]):\n",
        "      for j in range(shape[1]):\n",
        "        img_with_padding[i+padding_width][j+padding_width] = input_img[i][j]\n",
        "    \n",
        "    return img_with_padding"
      ]
    },
    {
      "cell_type": "code",
      "execution_count": 12,
      "metadata": {
        "id": "YCfaQ0eFokOG",
        "colab": {
          "base_uri": "https://localhost:8080/"
        },
        "outputId": "563f6e96-3f5a-4760-e2ce-5ae12a12eb8b"
      },
      "outputs": [
        {
          "output_type": "execute_result",
          "data": {
            "text/plain": [
              "True"
            ]
          },
          "metadata": {},
          "execution_count": 12
        }
      ],
      "source": [
        "def grader_padding(img1,img2):\n",
        "    a1=((img1.shape)==(8,8))\n",
        "    a2=((img2.shape)==(4,4))\n",
        "    assert(a1 and a2)\n",
        "    b1=(img1.sum(axis=1)==[ 0.,  0., 10., 26., 42., 58.,  0.,  0.])\n",
        "    b2=(img1.sum(axis=0)==[ 0, 0, 28, 32, 36, 40,  0,  0])\n",
        "    assert(b1.all() and b2.all())\n",
        "    return True\n",
        "\n",
        "img=np.array([[1,2,3,4],[5,6,7,8],[9,10,11,12],[13,14,15,16]])\n",
        "img1=get_padded_image(img, 2)\n",
        "img2=get_padded_image(img, 0)\n",
        "grader_padding(img1,img2)"
      ]
    },
    {
      "cell_type": "markdown",
      "metadata": {
        "id": "2U_nZQ5QokOG"
      },
      "source": [
        "### Task 3 . Performing convolution\n",
        "In this task we have to add layer of zeros as padding layers in the original image"
      ]
    },
    {
      "cell_type": "code",
      "execution_count": 13,
      "metadata": {
        "id": "xLzNBsFmokOH"
      },
      "outputs": [],
      "source": [
        "def convolve(img, kernel,pad):\n",
        "    #calcualte the size of required image\n",
        "    tgt_size_length,tgt_size_width =  calculate_output_shape((img.shape[0],img.shape[1]),(kernel.shape[0],kernel.shape[1]),pad)\n",
        "    \n",
        "    #initialize the matrix of all zeros\n",
        "    convolved_img = np.zeros(shape=(tgt_size_length, tgt_size_width))\n",
        "    new_img=get_padded_image(img, pad)\n",
        "\n",
        "    # write the code for convolution\n",
        "    kernel_shape = kernel.shape\n",
        "    for i in range(tgt_size_length):    # Travesing through lenght of matrix\n",
        "      for j in range(tgt_size_width):   # Travesing through width of matrix\n",
        "        # Extracting the subset\n",
        "        subset = new_img[i:i+kernel_shape[0], j:j+kernel_shape[1]]\n",
        "\n",
        "        # Multimulying subset and kernel matrix\n",
        "        ij_matrix= np.multiply(subset, kernel)\n",
        "\n",
        "        # Adding elements\n",
        "        convolved_img[i][j] = np.sum(ij_matrix) \n",
        "       \n",
        "    return convolved_img"
      ]
    },
    {
      "cell_type": "code",
      "execution_count": 14,
      "metadata": {
        "id": "EdV4Zh14okOH",
        "colab": {
          "base_uri": "https://localhost:8080/"
        },
        "outputId": "09f4edef-58cb-44f8-d7de-cac23135c147"
      },
      "outputs": [
        {
          "output_type": "execute_result",
          "data": {
            "text/plain": [
              "True"
            ]
          },
          "metadata": {},
          "execution_count": 14
        }
      ],
      "source": [
        "def grader_convolve(conv_img):\n",
        "    a1=(conv_img.shape==(5,5))\n",
        "    a2=(conv_img.sum(axis=1)==([10, 26, 42, 58,  0]))\n",
        "    a3=(conv_img.sum(axis=0)==([ 0,28, 32, 36, 40]))\n",
        "    assert(a1 and a2.all() and a3.all())\n",
        "    return True\n",
        "img=np.array([[1,2,3,4],[5,6,7,8],[9,10,11,12],[13,14,15,16]])\n",
        "kernel=np.array([[1,-1],[0,1]])\n",
        "conv_img=convolve(img, kernel,1)\n",
        "grader_convolve(conv_img)"
      ]
    },
    {
      "cell_type": "markdown",
      "metadata": {
        "id": "e_JPdWOcokOI"
      },
      "source": [
        "### Task 4: Perform Maxpooling with strides\n"
      ]
    },
    {
      "cell_type": "code",
      "execution_count": 49,
      "metadata": {
        "id": "dBGvYOrHokOI"
      },
      "outputs": [],
      "source": [
        "def get_maxpools(img, pool_size, stride):\n",
        "    # write your code to get the pooled matrix\n",
        "    # Finding the length and width of pooling matrix\n",
        "    img_shape = img.shape\n",
        "    pooling_mat_lenght, pooling_mat_width = (img_shape[0] - pool_size)//stride + 1, (img_shape[1] - pool_size)//stride + 1\n",
        " \n",
        "    # Initializing pooling matrix with zeros\n",
        "    pooling_mat = np.zeros(shape=(pooling_mat_lenght, pooling_mat_width))\n",
        "\n",
        "    # Calculating pooling matrix\n",
        "    i = 0\n",
        "    for x in range(0, img_shape[0]-pool_size+1, stride):\n",
        "      j = 0\n",
        "      for y in range(0, img_shape[1]-pool_size+1, stride):\n",
        "        subset=img[x:x+pool_size, y:y+pool_size]\n",
        "        print(subset)\n",
        "        pooling_mat[i][j] = np.max(subset)\n",
        "        j = j + 1\n",
        "      i = i + 1\n",
        "\n",
        "    return (pooling_mat)"
      ]
    },
    {
      "cell_type": "code",
      "execution_count": 50,
      "metadata": {
        "id": "8SYF3_QbokOI",
        "colab": {
          "base_uri": "https://localhost:8080/"
        },
        "outputId": "fca8eaa8-47a6-4348-967f-33020cf05af5"
      },
      "outputs": [
        {
          "output_type": "stream",
          "name": "stdout",
          "text": [
            "[[1 2]\n",
            " [5 6]]\n",
            "[[2 3]\n",
            " [6 7]]\n",
            "[[3 4]\n",
            " [7 8]]\n",
            "[[ 5  6]\n",
            " [ 9 10]]\n",
            "[[ 6  7]\n",
            " [10 11]]\n",
            "[[ 7  8]\n",
            " [11 12]]\n",
            "[[ 9 10]\n",
            " [13 14]]\n",
            "[[10 11]\n",
            " [14 15]]\n",
            "[[11 12]\n",
            " [15 16]]\n"
          ]
        },
        {
          "output_type": "execute_result",
          "data": {
            "text/plain": [
              "True"
            ]
          },
          "metadata": {},
          "execution_count": 50
        }
      ],
      "source": [
        "def pooling_final(pooled_output):\n",
        "    a1=(pooled_output.sum(axis=0)==[30, 33, 36])\n",
        "    a2=(pooled_output.sum(axis=1)==[21, 33, 45])\n",
        "    assert(a1.all() and a2.all())\n",
        "    return True\n",
        "img=np.array([[1,2,3,4],[5,6,7,8],[9,10,11,12],[13,14,15,16]])\n",
        "pool_size=2\n",
        "stride=1\n",
        "pooled_output=(get_maxpools(img, pool_size, stride))\n",
        "pooling_final(pooled_output)"
      ]
    }
  ],
  "metadata": {
    "kernelspec": {
      "display_name": "Python 3",
      "language": "python",
      "name": "python3"
    },
    "language_info": {
      "codemirror_mode": {
        "name": "ipython",
        "version": 3
      },
      "file_extension": ".py",
      "mimetype": "text/x-python",
      "name": "python",
      "nbconvert_exporter": "python",
      "pygments_lexer": "ipython3",
      "version": "3.6.3"
    },
    "colab": {
      "provenance": [],
      "collapsed_sections": []
    }
  },
  "nbformat": 4,
  "nbformat_minor": 0
}